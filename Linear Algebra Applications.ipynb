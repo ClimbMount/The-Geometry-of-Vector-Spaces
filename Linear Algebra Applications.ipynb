{
 "cells": [
  {
   "cell_type": "code",
   "execution_count": 1,
   "metadata": {},
   "outputs": [],
   "source": [
    "# Vectors"
   ]
  },
  {
   "cell_type": "code",
   "execution_count": 2,
   "metadata": {},
   "outputs": [
    {
     "data": {
      "text/html": [
       "<style>\n",
       ".output {\n",
       "    flex-direction: row;\n",
       "}\n",
       "</style>"
      ],
      "text/plain": [
       "<IPython.core.display.HTML object>"
      ]
     },
     "execution_count": 2,
     "metadata": {},
     "output_type": "execute_result"
    }
   ],
   "source": [
    "from IPython.display import display, HTML\n",
    "\n",
    "css = \"\"\"\n",
    ".output {\n",
    "    flex-direction: row;\n",
    "}\n",
    "\"\"\"\n",
    "\n",
    "HTML('<style>{}</style>'.format(css))"
   ]
  },
  {
   "cell_type": "code",
   "execution_count": 3,
   "metadata": {},
   "outputs": [],
   "source": [
    "import numpy as np\n",
    "\n",
    "x = np.array([[4.7],[3.2],[1.3],[0.2], ['Iris-Setosa']])"
   ]
  },
  {
   "cell_type": "code",
   "execution_count": 4,
   "metadata": {},
   "outputs": [],
   "source": [
    "# One Hot Encoding\n",
    "\n",
    "from sklearn.preprocessing import OneHotEncoder"
   ]
  },
  {
   "cell_type": "code",
   "execution_count": 5,
   "metadata": {},
   "outputs": [
    {
     "name": "stdout",
     "output_type": "stream",
     "text": [
      "[[1. 0. 0.]\n",
      " [0. 0. 1.]\n",
      " [0. 1. 0.]]\n"
     ]
    }
   ],
   "source": [
    "x = np.array([['cold'], ['warm'], ['hot']])\n",
    "\n",
    "encoder = OneHotEncoder(sparse=False)\n",
    "onehot = encoder.fit_transform(x)\n",
    "\n",
    "print(onehot)"
   ]
  },
  {
   "cell_type": "code",
   "execution_count": 6,
   "metadata": {},
   "outputs": [
    {
     "data": {
      "text/html": [
       "<div>\n",
       "<style scoped>\n",
       "    .dataframe tbody tr th:only-of-type {\n",
       "        vertical-align: middle;\n",
       "    }\n",
       "\n",
       "    .dataframe tbody tr th {\n",
       "        vertical-align: top;\n",
       "    }\n",
       "\n",
       "    .dataframe thead th {\n",
       "        text-align: right;\n",
       "    }\n",
       "</style>\n",
       "<table border=\"1\" class=\"dataframe\">\n",
       "  <thead>\n",
       "    <tr style=\"text-align: right;\">\n",
       "      <th></th>\n",
       "      <th>Climate</th>\n",
       "      <th>Time (Min)</th>\n",
       "    </tr>\n",
       "  </thead>\n",
       "  <tbody>\n",
       "    <tr>\n",
       "      <th>0</th>\n",
       "      <td>cold</td>\n",
       "      <td>50</td>\n",
       "    </tr>\n",
       "    <tr>\n",
       "      <th>1</th>\n",
       "      <td>warm</td>\n",
       "      <td>40</td>\n",
       "    </tr>\n",
       "    <tr>\n",
       "      <th>2</th>\n",
       "      <td>hot</td>\n",
       "      <td>35</td>\n",
       "    </tr>\n",
       "    <tr>\n",
       "      <th>3</th>\n",
       "      <td>cold</td>\n",
       "      <td>47</td>\n",
       "    </tr>\n",
       "  </tbody>\n",
       "</table>\n",
       "</div>"
      ],
      "text/plain": [
       "  Climate  Time (Min)\n",
       "0    cold          50\n",
       "1    warm          40\n",
       "2     hot          35\n",
       "3    cold          47"
      ]
     },
     "metadata": {},
     "output_type": "display_data"
    },
    {
     "data": {
      "text/html": [
       "<div>\n",
       "<style scoped>\n",
       "    .dataframe tbody tr th:only-of-type {\n",
       "        vertical-align: middle;\n",
       "    }\n",
       "\n",
       "    .dataframe tbody tr th {\n",
       "        vertical-align: top;\n",
       "    }\n",
       "\n",
       "    .dataframe thead th {\n",
       "        text-align: right;\n",
       "    }\n",
       "</style>\n",
       "<table border=\"1\" class=\"dataframe\">\n",
       "  <thead>\n",
       "    <tr style=\"text-align: right;\">\n",
       "      <th></th>\n",
       "      <th>Time (Min)</th>\n",
       "      <th>Climate_cold</th>\n",
       "      <th>Climate_hot</th>\n",
       "      <th>Climate_warm</th>\n",
       "    </tr>\n",
       "  </thead>\n",
       "  <tbody>\n",
       "    <tr>\n",
       "      <th>0</th>\n",
       "      <td>50</td>\n",
       "      <td>1</td>\n",
       "      <td>0</td>\n",
       "      <td>0</td>\n",
       "    </tr>\n",
       "    <tr>\n",
       "      <th>1</th>\n",
       "      <td>40</td>\n",
       "      <td>0</td>\n",
       "      <td>0</td>\n",
       "      <td>1</td>\n",
       "    </tr>\n",
       "    <tr>\n",
       "      <th>2</th>\n",
       "      <td>35</td>\n",
       "      <td>0</td>\n",
       "      <td>1</td>\n",
       "      <td>0</td>\n",
       "    </tr>\n",
       "    <tr>\n",
       "      <th>3</th>\n",
       "      <td>47</td>\n",
       "      <td>1</td>\n",
       "      <td>0</td>\n",
       "      <td>0</td>\n",
       "    </tr>\n",
       "  </tbody>\n",
       "</table>\n",
       "</div>"
      ],
      "text/plain": [
       "   Time (Min)  Climate_cold  Climate_hot  Climate_warm\n",
       "0          50             1            0             0\n",
       "1          40             0            0             1\n",
       "2          35             0            1             0\n",
       "3          47             1            0             0"
      ]
     },
     "metadata": {},
     "output_type": "display_data"
    }
   ],
   "source": [
    "import pandas as pd\n",
    "\n",
    "# Dictionary\n",
    "data = {'Climate': ['cold', 'warm', 'hot', 'cold'], 'Time (Min)': [50, 40, 35, 47]}  \n",
    "\n",
    "# Creating a matrix from dictionary\n",
    "df1 = pd.DataFrame(data)  \n",
    "df2 = pd.get_dummies(df1[['Climate', 'Time (Min)']])\n",
    "\n",
    "# Printing both dataset\n",
    "display(df1)\n",
    "display(df2)"
   ]
  },
  {
   "cell_type": "code",
   "execution_count": 7,
   "metadata": {},
   "outputs": [
    {
     "name": "stdout",
     "output_type": "stream",
     "text": [
      "<class 'dict'>\n"
     ]
    }
   ],
   "source": [
    "print(type(data))"
   ]
  },
  {
   "cell_type": "code",
   "execution_count": 8,
   "metadata": {},
   "outputs": [],
   "source": [
    "# Matrix\n",
    "z = np.array([[4.7, 3.2, 1.3, 0.2, 'Iris-setosa'],\n",
    "             [6.3, 2.5, 4.9, 1.5, 'Iris-versicolor'],\n",
    "             [6.4, 2.8, 5.6, 2.2, 'Iris-virginica'],\n",
    "             [4.9, 3.1, 1.5, 0.1, 'Iris-setosa']])"
   ]
  },
  {
   "cell_type": "code",
   "execution_count": 9,
   "metadata": {},
   "outputs": [
    {
     "data": {
      "text/html": [
       "<div>\n",
       "<style scoped>\n",
       "    .dataframe tbody tr th:only-of-type {\n",
       "        vertical-align: middle;\n",
       "    }\n",
       "\n",
       "    .dataframe tbody tr th {\n",
       "        vertical-align: top;\n",
       "    }\n",
       "\n",
       "    .dataframe thead th {\n",
       "        text-align: right;\n",
       "    }\n",
       "</style>\n",
       "<table border=\"1\" class=\"dataframe\">\n",
       "  <thead>\n",
       "    <tr style=\"text-align: right;\">\n",
       "      <th></th>\n",
       "      <th>Sepal Length (cm)</th>\n",
       "      <th>Sepal Width (cm)</th>\n",
       "      <th>Petal Length (cm)</th>\n",
       "      <th>Petal Width (cm)</th>\n",
       "      <th>Target</th>\n",
       "    </tr>\n",
       "  </thead>\n",
       "  <tbody>\n",
       "    <tr>\n",
       "      <th>0</th>\n",
       "      <td>4.7</td>\n",
       "      <td>3.2</td>\n",
       "      <td>1.3</td>\n",
       "      <td>0.2</td>\n",
       "      <td>Iris-setosa</td>\n",
       "    </tr>\n",
       "    <tr>\n",
       "      <th>1</th>\n",
       "      <td>6.3</td>\n",
       "      <td>2.5</td>\n",
       "      <td>4.9</td>\n",
       "      <td>1.5</td>\n",
       "      <td>Iris-versicolor</td>\n",
       "    </tr>\n",
       "    <tr>\n",
       "      <th>2</th>\n",
       "      <td>6.4</td>\n",
       "      <td>2.8</td>\n",
       "      <td>5.6</td>\n",
       "      <td>2.2</td>\n",
       "      <td>Iris-virginica</td>\n",
       "    </tr>\n",
       "    <tr>\n",
       "      <th>3</th>\n",
       "      <td>4.9</td>\n",
       "      <td>3.1</td>\n",
       "      <td>1.5</td>\n",
       "      <td>0.1</td>\n",
       "      <td>Iris-setosa</td>\n",
       "    </tr>\n",
       "  </tbody>\n",
       "</table>\n",
       "</div>"
      ],
      "text/plain": [
       "   Sepal Length (cm)  Sepal Width (cm)  Petal Length (cm)  Petal Width (cm)  \\\n",
       "0                4.7               3.2                1.3               0.2   \n",
       "1                6.3               2.5                4.9               1.5   \n",
       "2                6.4               2.8                5.6               2.2   \n",
       "3                4.9               3.1                1.5               0.1   \n",
       "\n",
       "            Target  \n",
       "0      Iris-setosa  \n",
       "1  Iris-versicolor  \n",
       "2   Iris-virginica  \n",
       "3      Iris-setosa  "
      ]
     },
     "execution_count": 9,
     "metadata": {},
     "output_type": "execute_result"
    }
   ],
   "source": [
    "# Table (Dataframe)\n",
    "\n",
    "# Dictionary\n",
    "flower = {'Sepal Length (cm)': [4.7, 6.3, 6.4, 4.9], 'Sepal Width (cm)': [3.2, 2.5, 2.8, 3.1],\n",
    "          'Petal Length (cm)': [1.3, 4.9, 5.6, 1.5], 'Petal Width (cm)': [0.2, 1.5, 2.2, 0.1],\n",
    "          'Target': ['Iris-setosa','Iris-versicolor','Iris-virginica','Iris-setosa']}\n",
    "\n",
    "# Creating a matrix from dictionary\n",
    "df = pd.DataFrame(data=flower)\n",
    "df"
   ]
  },
  {
   "cell_type": "code",
   "execution_count": 10,
   "metadata": {},
   "outputs": [
    {
     "name": "stdout",
     "output_type": "stream",
     "text": [
      "tf.Tensor(\n",
      "[[[ 0  1  2  3  4]\n",
      "  [ 5  6  7  8  9]]\n",
      "\n",
      " [[10 11 12 13 14]\n",
      "  [15 16 17 18 19]]\n",
      "\n",
      " [[20 21 22 23 24]\n",
      "  [25 26 27 28 29]]], shape=(3, 2, 5), dtype=int32)\n"
     ]
    }
   ],
   "source": [
    "import tensorflow as tf\n",
    "\n",
    "# Tensor with 2 lines, 5 columns and 3 dimensions\n",
    "tensor = tf.constant([\n",
    "  [[0, 1, 2, 3, 4],\n",
    "   [5, 6, 7, 8, 9]],\n",
    "  [[10, 11, 12, 13, 14],\n",
    "   [15, 16, 17, 18, 19]],\n",
    "  [[20, 21, 22, 23, 24],\n",
    "   [25, 26, 27, 28, 29]],])\n",
    "\n",
    "print(tensor)"
   ]
  },
  {
   "cell_type": "code",
   "execution_count": 11,
   "metadata": {},
   "outputs": [
    {
     "data": {
      "text/plain": [
       "<Figure size 1200x1200 with 2 Axes>"
      ]
     },
     "metadata": {},
     "output_type": "display_data"
    }
   ],
   "source": [
    "import matplotlib.pyplot as plt  \n",
    "from skimage import data,filters\n",
    "       \n",
    "cat = data.chelsea()\n",
    "\n",
    "plt.figure(figsize = (12,12))\n",
    "\n",
    "plt.subplot(1, 2, 1) \n",
    "plt.imshow(cat)\n",
    "\n",
    "plt.subplot(1, 2, 2) \n",
    "plt.imshow(2*cat)\n",
    "\n",
    "plt.show()\n",
    "plt.close()"
   ]
  },
  {
   "cell_type": "code",
   "execution_count": 12,
   "metadata": {},
   "outputs": [],
   "source": [
    "# Normalization"
   ]
  },
  {
   "cell_type": "code",
   "execution_count": 13,
   "metadata": {},
   "outputs": [
    {
     "data": {
      "text/plain": [
       "array([[33, 75],\n",
       "       [27, 18],\n",
       "       [19, 61],\n",
       "       [15, 42],\n",
       "       [21, 86]])"
      ]
     },
     "metadata": {},
     "output_type": "display_data"
    },
    {
     "data": {
      "text/plain": [
       "array([[1.  , 0.84],\n",
       "       [0.67, 0.  ],\n",
       "       [0.22, 0.63],\n",
       "       [0.  , 0.35],\n",
       "       [0.33, 1.  ]])"
      ]
     },
     "metadata": {},
     "output_type": "display_data"
    }
   ],
   "source": [
    "from sklearn.preprocessing import MinMaxScaler\n",
    "\n",
    "# Matrix\n",
    "data = np.array([[33, 75],\n",
    "                [27, 18],\n",
    "                [19, 61],\n",
    "                [15, 42],\n",
    "                [21, 86]])\n",
    "\n",
    "# Data normalization \n",
    "scaled = MinMaxScaler().fit_transform(data)\n",
    "\n",
    "# Printing matrix without and with normalization\n",
    "display(data)\n",
    "display(np.around(scaled, decimals = 2))"
   ]
  },
  {
   "cell_type": "code",
   "execution_count": 14,
   "metadata": {},
   "outputs": [
    {
     "data": {
      "image/png": "[encoded data removed]",
      "text/plain": [
       "<Figure size 432x288 with 1 Axes>"
      ]
     },
     "metadata": {
      "needs_background": "light"
     },
     "output_type": "display_data"
    },
    {
     "name": "stdout",
     "output_type": "stream",
     "text": [
      "w_1: [0.94]\n",
      "w_0: -0.4\n"
     ]
    }
   ],
   "source": [
    "from sklearn.linear_model import LinearRegression\n",
    "\n",
    "# Matrix\n",
    "A = np.array([5, 14, 21, 33, 47, 50]).reshape((-1, 1))\n",
    "\n",
    "# Labels\n",
    "y = np.array([3, 16, 15, 35, 40, 48])\n",
    "\n",
    "# Fitting the model\n",
    "model = LinearRegression().fit(A, y) \n",
    "\n",
    "# Predicting value from fitted model\n",
    "y_pred = model.predict(A)\n",
    "\n",
    "plt.scatter(A, y, color=\"black\")\n",
    "plt.plot(A, y_pred, color=\"blue\", linewidth=3)\n",
    "plt.show()\n",
    "\n",
    "# Print coefficients\n",
    "print(\"w_1:\", np.around(model.coef_, decimals = 2))              \n",
    "print(\"w_0:\", np.around(model.intercept_, decimals = 2))"
   ]
  },
  {
   "cell_type": "code",
   "execution_count": 15,
   "metadata": {},
   "outputs": [
    {
     "data": {
      "text/plain": [
       "3"
      ]
     },
     "execution_count": 15,
     "metadata": {},
     "output_type": "execute_result"
    }
   ],
   "source": [
    "# Vectors\n",
    "a = [2, 1, 0]\n",
    "b = [1, 1, 3]\n",
    "\n",
    "# Inner Product\n",
    "np.dot(a,b)"
   ]
  },
  {
   "cell_type": "code",
   "execution_count": 16,
   "metadata": {},
   "outputs": [],
   "source": [
    "# Regularization"
   ]
  },
  {
   "cell_type": "code",
   "execution_count": 17,
   "metadata": {},
   "outputs": [
    {
     "name": "stdout",
     "output_type": "stream",
     "text": [
      "[0.   0.74]\n",
      "1.86\n",
      "[0.25 0.71]\n",
      "1.31\n"
     ]
    }
   ],
   "source": [
    "from sklearn import linear_model\n",
    "\n",
    "# L1  LASSO\n",
    "reg1 = linear_model.Lasso(alpha=.4)\n",
    "reg1.fit([[1, 2], [3, 3], [4, 5]], [3, 4, 6])\n",
    "\n",
    "# Printing coefficients\n",
    "print(np.around(reg1.coef_, decimals = 2))\n",
    "print(np.around(reg1.intercept_, decimals = 2))\n",
    "\n",
    "#L2 Ridge\n",
    "reg2 = linear_model.Ridge(alpha=.4)\n",
    "reg2.fit([[1, 2], [3, 3], [4, 5]], [3, 4, 6])\n",
    "\n",
    "# Printing coefficients\n",
    "print(np.around(reg2.coef_, decimals = 2))\n",
    "print(np.around(reg2.intercept_, decimals = 2))"
   ]
  },
  {
   "cell_type": "code",
   "execution_count": 18,
   "metadata": {},
   "outputs": [],
   "source": [
    "import warnings\n",
    "warnings.filterwarnings(\"ignore\", category=DeprecationWarning)"
   ]
  },
  {
   "cell_type": "code",
   "execution_count": 19,
   "metadata": {},
   "outputs": [
    {
     "name": "stdout",
     "output_type": "stream",
     "text": [
      "[1]\n"
     ]
    }
   ],
   "source": [
    "from sklearn.datasets import load_iris\n",
    "from sklearn.linear_model import LogisticRegression\n",
    "\n",
    "# Loading Iris dataset\n",
    "x, y = load_iris(return_X_y=True)\n",
    "\n",
    "# Adjusting model weigths (training process)\n",
    "clf = LogisticRegression(max_iter=1000).fit(x, y)\n",
    "\n",
    "# Prediction\n",
    "pred = clf.predict(x[[80], :])\n",
    "print(pred)\n"
   ]
  },
  {
   "cell_type": "code",
   "execution_count": 20,
   "metadata": {},
   "outputs": [],
   "source": [
    "from sklearn.model_selection import train_test_split\n",
    "\n",
    "# Loading Iris dataset\n",
    "x, y = load_iris(return_X_y=True)\n",
    "clf = LogisticRegression(max_iter=1000).fit(x, y)\n",
    "\n",
    "# Separating the data into test and training parts\n",
    "x_train, x_test, y_train, y_test = train_test_split(x, y,test_size=0.30,random_state=0)\n",
    "\n",
    "# Adjusting model weigths (training process)\n",
    "clf = LogisticRegression(max_iter=1000).fit(x_train, y_train)\n",
    "\n",
    "# Prediction for all test data (testing process)\n",
    "y_pred = clf.predict(x_test)"
   ]
  },
  {
   "cell_type": "code",
   "execution_count": 21,
   "metadata": {},
   "outputs": [
    {
     "data": {
      "image/png": "[encoded data removed]",
      "text/plain": [
       "<Figure size 432x288 with 2 Axes>"
      ]
     },
     "metadata": {
      "needs_background": "light"
     },
     "output_type": "display_data"
    }
   ],
   "source": [
    "import seaborn as sns\n",
    "from sklearn.metrics import confusion_matrix\n",
    "\n",
    "# Confusion matrix\n",
    "cm = confusion_matrix(y_test, y_pred)\n",
    "\n",
    "# Plotting\n",
    "ax = plt.axes()\n",
    "sns.heatmap(cm, annot=True, annot_kws={\"size\": 14}, fmt='d',cmap=\"Blues\", ax = ax)\n",
    "ax.xaxis.set_ticklabels(['Setosa', 'Versicolour','Virginica'], fontsize = 10); \n",
    "ax.yaxis.set_ticklabels(['Setosa', 'Versicolour','Virginica'], fontsize = 10);\n",
    "ax.set_xlabel('Predicted', fontsize = 15);\n",
    "ax.set_ylabel('True', fontsize = 15); \n",
    "plt.show()"
   ]
  },
  {
   "cell_type": "code",
   "execution_count": 22,
   "metadata": {},
   "outputs": [
    {
     "name": "stdout",
     "output_type": "stream",
     "text": [
      "Eigenvalues \n",
      "[2.9  0.99 0.13 0.02]\n",
      "Matrix W:\n",
      " [[ 0.54 -0.33]\n",
      " [-0.2  -0.94]\n",
      " [ 0.59  0.  ]\n",
      " [ 0.57 -0.03]]\n"
     ]
    }
   ],
   "source": [
    "from sklearn.preprocessing import StandardScaler\n",
    "\n",
    "# Loading Iris dataset\n",
    "x, y = load_iris(return_X_y=True)\n",
    "\n",
    "# Separating the data into test and training parts\n",
    "x_train, x_test, y_train, y_test = train_test_split(x, y, test_size=0.3, random_state=0)\n",
    "\n",
    "# Standardization\n",
    "sc = StandardScaler()\n",
    "x_train = sc.fit_transform(x_train)\n",
    "x_test = sc.fit_transform(x_test)\n",
    "    \n",
    "# Covariant matrix    \n",
    "cov_mat = np.cov(x_train.T)\n",
    "\n",
    "# Eigen values/vectors\n",
    "eigen_vals, eigen_vecs = np.linalg.eig(cov_mat)\n",
    "print('Eigenvalues \\n%s' % np.around(eigen_vals, decimals = 2)) \n",
    "\n",
    "# Make a list of (eigenvalue, eigenvector) tuples\n",
    "eigen_pairs = [(np.abs(eigen_vals[i]), eigen_vecs[:, i])\n",
    "               for i in range(len(eigen_vals))]\n",
    "\n",
    "# Sorting eigenvalue and eigenvector\n",
    "eigen_pairs.sort(key=lambda k: k[0], reverse=True)\n",
    "\n",
    "# Stacking eigenvectors\n",
    "W = np.hstack((eigen_pairs[0][1][:, np.newaxis],\n",
    "               eigen_pairs[1][1][:, np.newaxis]))\n",
    "\n",
    "print('Matrix W:\\n', np.around(W, decimals = 2))"
   ]
  },
  {
   "cell_type": "code",
   "execution_count": 23,
   "metadata": {},
   "outputs": [
    {
     "data": {
      "text/plain": [
       "array([-0.33739989,  2.59040494])"
      ]
     },
     "execution_count": 23,
     "metadata": {},
     "output_type": "execute_result"
    }
   ],
   "source": [
    "# Transformation  (x' = x . W)\n",
    "x_train[0].dot(W)"
   ]
  },
  {
   "cell_type": "code",
   "execution_count": 24,
   "metadata": {},
   "outputs": [
    {
     "data": {
      "image/png": "[encoded data removed]",
      "text/plain": [
       "<Figure size 432x288 with 1 Axes>"
      ]
     },
     "metadata": {
      "needs_background": "light"
     },
     "output_type": "display_data"
    }
   ],
   "source": [
    "# Tranforming all data\n",
    "x_train_pca = x_train.dot(W)\n",
    "\n",
    "# Plotting grafic\n",
    "colors = ['r', 'b', 'g']\n",
    "markers = ['o', 's', '^']\n",
    "\n",
    "for l, c, m in zip(np.unique(y_train), colors, markers):\n",
    "    plt.scatter(x_train_pca[y_train == l, 0], \n",
    "                x_train_pca[y_train == l, 1], \n",
    "                c=c, label=f'Class {l}', marker=m)\n",
    "\n",
    "plt.xlabel('PC 1')\n",
    "plt.ylabel('PC 2')\n",
    "plt.legend(loc='upper right')\n",
    "plt.tight_layout()\n",
    "plt.show()\n"
   ]
  },
  {
   "cell_type": "code",
   "execution_count": 44,
   "metadata": {},
   "outputs": [
    {
     "data": {
      "image/png": "[encoded data removed]",
      "text/plain": [
       "<Figure size 1008x288 with 2 Axes>"
      ]
     },
     "metadata": {
      "needs_background": "light"
     },
     "output_type": "display_data"
    }
   ],
   "source": [
    "from sklearn.decomposition import PCA, KernelPCA\n",
    "from sklearn.datasets import make_circles\n",
    "\n",
    "# Loading dataset\n",
    "x, y = make_circles(n_samples=1000, factor=0.3, noise=0.05, random_state=0)\n",
    "\n",
    "# Separating the data into test and training parts\n",
    "x_train, x_test, y_train, y_test = train_test_split(x, y, stratify = y, random_state=0)\n",
    "\n",
    "# Applying kernel PCA (RBF)\n",
    "kernel_pca = KernelPCA(n_components=None, kernel=\"rbf\", gamma=10, fit_inverse_transform=True, alpha=0.1)\n",
    "\n",
    "# Fitting and applying transformation\n",
    "x_test_kernel_pca = kernel_pca.fit(x_train).transform(x_test)\n",
    "\n",
    "# Plotting graphics\n",
    "fig, (ax1, ax2) = plt.subplots(ncols=2, figsize=(14, 4))\n",
    "\n",
    "ax1.scatter(x_test[:, 0], x_test[:, 1], c=y_test)\n",
    "ax1.set_ylabel(\"Feature 1\", fontsize=12)\n",
    "ax1.set_xlabel(\"Feature 0\", fontsize=12)\n",
    "ax1.set_title(\"Testing data\", fontsize=12)\n",
    "\n",
    "ax2.scatter(x_test_kernel_pca[:, 0], x_test_kernel_pca[:, 1], c = y_test)\n",
    "ax2.set_ylabel(\"PC 1\", fontsize=12)\n",
    "ax2.set_xlabel(\"PC 0\", fontsize=12)\n",
    "_ = ax2.set_title(\"Projection of testing data\\n using KernelPCA\", fontsize=12)\n"
   ]
  },
  {
   "cell_type": "code",
   "execution_count": null,
   "metadata": {},
   "outputs": [],
   "source": []
  }
 ],
 "metadata": {
  "kernelspec": {
   "display_name": "Python 3",
   "language": "python",
   "name": "python3"
  },
  "language_info": {
   "codemirror_mode": {
    "name": "ipython",
    "version": 3
   },
   "file_extension": ".py",
   "mimetype": "text/x-python",
   "name": "python",
   "nbconvert_exporter": "python",
   "pygments_lexer": "ipython3",
   "version": "3.6.13"
  }
 },
 "nbformat": 4,
 "nbformat_minor": 4
}
